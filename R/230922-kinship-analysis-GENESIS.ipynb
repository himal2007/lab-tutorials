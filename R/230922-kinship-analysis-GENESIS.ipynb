{
 "cells": [
  {
   "cell_type": "markdown",
   "metadata": {},
   "source": [
    "# Kinship analysis using GENESIS    \n",
    "Purpose: We want to find if there is any kinship between the samples in the dataset. \n",
    "1. What data are we using?    \n",
    "   i. KING relatedness matrix obtained using `--relatedness2` argument in `vcftools`   \n",
    "   ii. `.vcf` file\n",
    "\n"
   ]
  },
  {
   "cell_type": "code",
   "execution_count": 16,
   "metadata": {
    "vscode": {
     "languageId": "r"
    }
   },
   "outputs": [
    {
     "name": "stderr",
     "output_type": "stream",
     "text": [
      "Warning message:\n",
      "\"package 'gplots' was built under R version 4.3.1\"\n"
     ]
    }
   ],
   "source": [
    "## Load libraries\n",
    "suppressMessages({\n",
    "    library(tidyverse);\n",
    "    library(gplots);\n",
    "})"
   ]
  },
  {
   "cell_type": "code",
   "execution_count": 2,
   "metadata": {
    "vscode": {
     "languageId": "r"
    }
   },
   "outputs": [
    {
     "name": "stderr",
     "output_type": "stream",
     "text": [
      "\u001b[1mRows: \u001b[22m\u001b[34m17956\u001b[39m \u001b[1mColumns: \u001b[22m\u001b[34m7\u001b[39m\n",
      "\u001b[36m──\u001b[39m \u001b[1mColumn specification\u001b[22m \u001b[36m────────────────────────────────────────────────────────\u001b[39m\n",
      "\u001b[1mDelimiter:\u001b[22m \"\\t\"\n",
      "\u001b[31mchr\u001b[39m (2): INDV1, INDV2\n",
      "\u001b[32mdbl\u001b[39m (5): N_AaAa, N_AAaa, N1_Aa, N2_Aa, RELATEDNESS_PHI\n",
      "\n",
      "\u001b[36mℹ\u001b[39m Use `spec()` to retrieve the full column specification for this data.\n",
      "\u001b[36mℹ\u001b[39m Specify the column types or set `show_col_types = FALSE` to quiet this message.\n"
     ]
    },
    {
     "data": {
      "text/html": [
       "<table class=\"dataframe\">\n",
       "<caption>A tibble: 6 × 7</caption>\n",
       "<thead>\n",
       "\t<tr><th scope=col>INDV1</th><th scope=col>INDV2</th><th scope=col>N_AaAa</th><th scope=col>N_AAaa</th><th scope=col>N1_Aa</th><th scope=col>N2_Aa</th><th scope=col>RELATEDNESS_PHI</th></tr>\n",
       "\t<tr><th scope=col>&lt;chr&gt;</th><th scope=col>&lt;chr&gt;</th><th scope=col>&lt;dbl&gt;</th><th scope=col>&lt;dbl&gt;</th><th scope=col>&lt;dbl&gt;</th><th scope=col>&lt;dbl&gt;</th><th scope=col>&lt;dbl&gt;</th></tr>\n",
       "</thead>\n",
       "<tbody>\n",
       "\t<tr><td>ETH_ALE_CW001</td><td>ETH_ALE_CW001</td><td>28</td><td>  0</td><td>28</td><td>28</td><td> 0.50000</td></tr>\n",
       "\t<tr><td>ETH_ALE_CW001</td><td>ETH_ALE_CW002</td><td> 5</td><td>152</td><td>28</td><td>23</td><td>-5.86275</td></tr>\n",
       "\t<tr><td>ETH_ALE_CW001</td><td>ETH_AWI_CW003</td><td> 2</td><td>174</td><td>28</td><td>32</td><td>-5.76667</td></tr>\n",
       "\t<tr><td>ETH_ALE_CW001</td><td>ETH_AWI_CW004</td><td> 2</td><td>154</td><td>28</td><td>19</td><td>-6.51064</td></tr>\n",
       "\t<tr><td>ETH_ALE_CW001</td><td>ETH_MET_CW005</td><td> 2</td><td>190</td><td>28</td><td>27</td><td>-6.87273</td></tr>\n",
       "\t<tr><td>ETH_ALE_CW001</td><td>ETH_MET_CW007</td><td> 6</td><td>173</td><td>28</td><td>27</td><td>-6.18182</td></tr>\n",
       "</tbody>\n",
       "</table>\n"
      ],
      "text/latex": [
       "A tibble: 6 × 7\n",
       "\\begin{tabular}{lllllll}\n",
       " INDV1 & INDV2 & N\\_AaAa & N\\_AAaa & N1\\_Aa & N2\\_Aa & RELATEDNESS\\_PHI\\\\\n",
       " <chr> & <chr> & <dbl> & <dbl> & <dbl> & <dbl> & <dbl>\\\\\n",
       "\\hline\n",
       "\t ETH\\_ALE\\_CW001 & ETH\\_ALE\\_CW001 & 28 &   0 & 28 & 28 &  0.50000\\\\\n",
       "\t ETH\\_ALE\\_CW001 & ETH\\_ALE\\_CW002 &  5 & 152 & 28 & 23 & -5.86275\\\\\n",
       "\t ETH\\_ALE\\_CW001 & ETH\\_AWI\\_CW003 &  2 & 174 & 28 & 32 & -5.76667\\\\\n",
       "\t ETH\\_ALE\\_CW001 & ETH\\_AWI\\_CW004 &  2 & 154 & 28 & 19 & -6.51064\\\\\n",
       "\t ETH\\_ALE\\_CW001 & ETH\\_MET\\_CW005 &  2 & 190 & 28 & 27 & -6.87273\\\\\n",
       "\t ETH\\_ALE\\_CW001 & ETH\\_MET\\_CW007 &  6 & 173 & 28 & 27 & -6.18182\\\\\n",
       "\\end{tabular}\n"
      ],
      "text/markdown": [
       "\n",
       "A tibble: 6 × 7\n",
       "\n",
       "| INDV1 &lt;chr&gt; | INDV2 &lt;chr&gt; | N_AaAa &lt;dbl&gt; | N_AAaa &lt;dbl&gt; | N1_Aa &lt;dbl&gt; | N2_Aa &lt;dbl&gt; | RELATEDNESS_PHI &lt;dbl&gt; |\n",
       "|---|---|---|---|---|---|---|\n",
       "| ETH_ALE_CW001 | ETH_ALE_CW001 | 28 |   0 | 28 | 28 |  0.50000 |\n",
       "| ETH_ALE_CW001 | ETH_ALE_CW002 |  5 | 152 | 28 | 23 | -5.86275 |\n",
       "| ETH_ALE_CW001 | ETH_AWI_CW003 |  2 | 174 | 28 | 32 | -5.76667 |\n",
       "| ETH_ALE_CW001 | ETH_AWI_CW004 |  2 | 154 | 28 | 19 | -6.51064 |\n",
       "| ETH_ALE_CW001 | ETH_MET_CW005 |  2 | 190 | 28 | 27 | -6.87273 |\n",
       "| ETH_ALE_CW001 | ETH_MET_CW007 |  6 | 173 | 28 | 27 | -6.18182 |\n",
       "\n"
      ],
      "text/plain": [
       "  INDV1         INDV2         N_AaAa N_AAaa N1_Aa N2_Aa RELATEDNESS_PHI\n",
       "1 ETH_ALE_CW001 ETH_ALE_CW001 28       0    28    28     0.50000       \n",
       "2 ETH_ALE_CW001 ETH_ALE_CW002  5     152    28    23    -5.86275       \n",
       "3 ETH_ALE_CW001 ETH_AWI_CW003  2     174    28    32    -5.76667       \n",
       "4 ETH_ALE_CW001 ETH_AWI_CW004  2     154    28    19    -6.51064       \n",
       "5 ETH_ALE_CW001 ETH_MET_CW005  2     190    28    27    -6.87273       \n",
       "6 ETH_ALE_CW001 ETH_MET_CW007  6     173    28    27    -6.18182       "
      ]
     },
     "metadata": {},
     "output_type": "display_data"
    }
   ],
   "source": [
    "## Load the relatedness matrix obtained using vcftools\n",
    "relatedness <- read_tsv(\"data/230816-relatedness2-output/out.relatedness2\")\n",
    "head(relatedness)"
   ]
  },
  {
   "cell_type": "code",
   "execution_count": 3,
   "metadata": {
    "vscode": {
     "languageId": "r"
    }
   },
   "outputs": [
    {
     "name": "stderr",
     "output_type": "stream",
     "text": [
      "Warning message:\n",
      "\"Setting row names on a tibble is deprecated.\"\n"
     ]
    },
    {
     "data": {
      "text/html": [
       "<table class=\"dataframe\">\n",
       "<caption>A tibble: 6 × 135</caption>\n",
       "<thead>\n",
       "\t<tr><th scope=col>INDV1</th><th scope=col>ETH_ALE_CW001</th><th scope=col>ETH_ALE_CW002</th><th scope=col>ETH_ALE_CW014</th><th scope=col>ETH_ALE_CW015</th><th scope=col>ETH_ALE_CW030</th><th scope=col>ETH_ALE_CW031</th><th scope=col>ETH_ALE_CW032</th><th scope=col>ETH_ALE_CW049</th><th scope=col>ETH_ALE_CW050</th><th scope=col>⋯</th><th scope=col>ETH_MET_CW204</th><th scope=col>ETH_MET_CW208</th><th scope=col>ETH_MET_CW211</th><th scope=col>ETH_MET_CW212</th><th scope=col>ETH_MET_CW219</th><th scope=col>ETH_TSE_CW043</th><th scope=col>ETH_TSE_CW079</th><th scope=col>ETH_TSE_CW097</th><th scope=col>ETH_TSE_CW151</th><th scope=col>ETH_TSE_CW191</th></tr>\n",
       "\t<tr><th scope=col>&lt;chr&gt;</th><th scope=col>&lt;dbl&gt;</th><th scope=col>&lt;dbl&gt;</th><th scope=col>&lt;dbl&gt;</th><th scope=col>&lt;dbl&gt;</th><th scope=col>&lt;dbl&gt;</th><th scope=col>&lt;dbl&gt;</th><th scope=col>&lt;dbl&gt;</th><th scope=col>&lt;dbl&gt;</th><th scope=col>&lt;dbl&gt;</th><th scope=col>⋯</th><th scope=col>&lt;dbl&gt;</th><th scope=col>&lt;dbl&gt;</th><th scope=col>&lt;dbl&gt;</th><th scope=col>&lt;dbl&gt;</th><th scope=col>&lt;dbl&gt;</th><th scope=col>&lt;dbl&gt;</th><th scope=col>&lt;dbl&gt;</th><th scope=col>&lt;dbl&gt;</th><th scope=col>&lt;dbl&gt;</th><th scope=col>&lt;dbl&gt;</th></tr>\n",
       "</thead>\n",
       "<tbody>\n",
       "\t<tr><td>ETH_ALE_CW001</td><td> 0.50000</td><td>-5.86275</td><td>-6.24561</td><td>-6.03636</td><td>-7.95238</td><td>-7.04255</td><td>-6.50000</td><td> -7.47727</td><td> -8.46667</td><td>⋯</td><td> -8.53061</td><td>-7.62264</td><td>-6.41818</td><td> -8.20930</td><td> -8.17778</td><td>-5.41379</td><td>-6.17241</td><td>-5.30508</td><td>-6.23404</td><td>-6.27273</td></tr>\n",
       "\t<tr><td>ETH_ALE_CW002</td><td>-5.86275</td><td> 0.50000</td><td>-5.69231</td><td>-6.40000</td><td>-8.81081</td><td>-7.76190</td><td>-7.31707</td><td> -7.92308</td><td> -9.02500</td><td>⋯</td><td> -9.25000</td><td>-8.33333</td><td>-6.70000</td><td>-10.13160</td><td> -9.45000</td><td>-6.07547</td><td>-6.81132</td><td>-6.09259</td><td>-6.66667</td><td>-7.40000</td></tr>\n",
       "\t<tr><td>ETH_ALE_CW014</td><td>-6.24561</td><td>-5.69231</td><td> 0.50000</td><td>-6.03571</td><td>-7.37209</td><td>-6.89583</td><td>-6.63830</td><td> -7.44444</td><td> -7.89130</td><td>⋯</td><td> -8.22000</td><td>-7.18519</td><td>-6.60714</td><td> -8.70455</td><td> -7.82609</td><td>-5.42373</td><td>-6.22034</td><td>-5.35000</td><td>-6.25000</td><td>-6.33929</td></tr>\n",
       "\t<tr><td>ETH_ALE_CW015</td><td>-6.03636</td><td>-6.40000</td><td>-6.03571</td><td> 0.50000</td><td>-8.02439</td><td>-7.06522</td><td>-6.88889</td><td> -7.23256</td><td> -8.38636</td><td>⋯</td><td> -8.31250</td><td>-7.42308</td><td>-6.77778</td><td> -9.52381</td><td> -8.38636</td><td>-5.94737</td><td>-6.45614</td><td>-5.53448</td><td>-5.84783</td><td>-6.66667</td></tr>\n",
       "\t<tr><td>ETH_ALE_CW030</td><td>-7.95238</td><td>-8.81081</td><td>-7.37209</td><td>-8.02439</td><td> 0.50000</td><td>-9.93939</td><td>-9.15625</td><td>-10.83330</td><td>-11.38710</td><td>⋯</td><td>-10.80000</td><td>-9.56410</td><td>-8.73171</td><td>-11.34480</td><td>-11.25810</td><td>-7.13636</td><td>-7.93182</td><td>-6.84444</td><td>-8.03030</td><td>-8.41463</td></tr>\n",
       "\t<tr><td>ETH_ALE_CW031</td><td>-7.04255</td><td>-7.76190</td><td>-6.89583</td><td>-7.06522</td><td>-9.93939</td><td> 0.50000</td><td>-8.05405</td><td> -9.11429</td><td> -9.75000</td><td>⋯</td><td>-10.50000</td><td>-8.70455</td><td>-7.71739</td><td>-11.50000</td><td>-10.16670</td><td>-6.34694</td><td>-7.46939</td><td>-6.02000</td><td>-7.23684</td><td>-7.65217</td></tr>\n",
       "</tbody>\n",
       "</table>\n"
      ],
      "text/latex": [
       "A tibble: 6 × 135\n",
       "\\begin{tabular}{lllllllllllllllllllll}\n",
       " INDV1 & ETH\\_ALE\\_CW001 & ETH\\_ALE\\_CW002 & ETH\\_ALE\\_CW014 & ETH\\_ALE\\_CW015 & ETH\\_ALE\\_CW030 & ETH\\_ALE\\_CW031 & ETH\\_ALE\\_CW032 & ETH\\_ALE\\_CW049 & ETH\\_ALE\\_CW050 & ⋯ & ETH\\_MET\\_CW204 & ETH\\_MET\\_CW208 & ETH\\_MET\\_CW211 & ETH\\_MET\\_CW212 & ETH\\_MET\\_CW219 & ETH\\_TSE\\_CW043 & ETH\\_TSE\\_CW079 & ETH\\_TSE\\_CW097 & ETH\\_TSE\\_CW151 & ETH\\_TSE\\_CW191\\\\\n",
       " <chr> & <dbl> & <dbl> & <dbl> & <dbl> & <dbl> & <dbl> & <dbl> & <dbl> & <dbl> & ⋯ & <dbl> & <dbl> & <dbl> & <dbl> & <dbl> & <dbl> & <dbl> & <dbl> & <dbl> & <dbl>\\\\\n",
       "\\hline\n",
       "\t ETH\\_ALE\\_CW001 &  0.50000 & -5.86275 & -6.24561 & -6.03636 & -7.95238 & -7.04255 & -6.50000 &  -7.47727 &  -8.46667 & ⋯ &  -8.53061 & -7.62264 & -6.41818 &  -8.20930 &  -8.17778 & -5.41379 & -6.17241 & -5.30508 & -6.23404 & -6.27273\\\\\n",
       "\t ETH\\_ALE\\_CW002 & -5.86275 &  0.50000 & -5.69231 & -6.40000 & -8.81081 & -7.76190 & -7.31707 &  -7.92308 &  -9.02500 & ⋯ &  -9.25000 & -8.33333 & -6.70000 & -10.13160 &  -9.45000 & -6.07547 & -6.81132 & -6.09259 & -6.66667 & -7.40000\\\\\n",
       "\t ETH\\_ALE\\_CW014 & -6.24561 & -5.69231 &  0.50000 & -6.03571 & -7.37209 & -6.89583 & -6.63830 &  -7.44444 &  -7.89130 & ⋯ &  -8.22000 & -7.18519 & -6.60714 &  -8.70455 &  -7.82609 & -5.42373 & -6.22034 & -5.35000 & -6.25000 & -6.33929\\\\\n",
       "\t ETH\\_ALE\\_CW015 & -6.03636 & -6.40000 & -6.03571 &  0.50000 & -8.02439 & -7.06522 & -6.88889 &  -7.23256 &  -8.38636 & ⋯ &  -8.31250 & -7.42308 & -6.77778 &  -9.52381 &  -8.38636 & -5.94737 & -6.45614 & -5.53448 & -5.84783 & -6.66667\\\\\n",
       "\t ETH\\_ALE\\_CW030 & -7.95238 & -8.81081 & -7.37209 & -8.02439 &  0.50000 & -9.93939 & -9.15625 & -10.83330 & -11.38710 & ⋯ & -10.80000 & -9.56410 & -8.73171 & -11.34480 & -11.25810 & -7.13636 & -7.93182 & -6.84444 & -8.03030 & -8.41463\\\\\n",
       "\t ETH\\_ALE\\_CW031 & -7.04255 & -7.76190 & -6.89583 & -7.06522 & -9.93939 &  0.50000 & -8.05405 &  -9.11429 &  -9.75000 & ⋯ & -10.50000 & -8.70455 & -7.71739 & -11.50000 & -10.16670 & -6.34694 & -7.46939 & -6.02000 & -7.23684 & -7.65217\\\\\n",
       "\\end{tabular}\n"
      ],
      "text/markdown": [
       "\n",
       "A tibble: 6 × 135\n",
       "\n",
       "| INDV1 &lt;chr&gt; | ETH_ALE_CW001 &lt;dbl&gt; | ETH_ALE_CW002 &lt;dbl&gt; | ETH_ALE_CW014 &lt;dbl&gt; | ETH_ALE_CW015 &lt;dbl&gt; | ETH_ALE_CW030 &lt;dbl&gt; | ETH_ALE_CW031 &lt;dbl&gt; | ETH_ALE_CW032 &lt;dbl&gt; | ETH_ALE_CW049 &lt;dbl&gt; | ETH_ALE_CW050 &lt;dbl&gt; | ⋯ ⋯ | ETH_MET_CW204 &lt;dbl&gt; | ETH_MET_CW208 &lt;dbl&gt; | ETH_MET_CW211 &lt;dbl&gt; | ETH_MET_CW212 &lt;dbl&gt; | ETH_MET_CW219 &lt;dbl&gt; | ETH_TSE_CW043 &lt;dbl&gt; | ETH_TSE_CW079 &lt;dbl&gt; | ETH_TSE_CW097 &lt;dbl&gt; | ETH_TSE_CW151 &lt;dbl&gt; | ETH_TSE_CW191 &lt;dbl&gt; |\n",
       "|---|---|---|---|---|---|---|---|---|---|---|---|---|---|---|---|---|---|---|---|---|\n",
       "| ETH_ALE_CW001 |  0.50000 | -5.86275 | -6.24561 | -6.03636 | -7.95238 | -7.04255 | -6.50000 |  -7.47727 |  -8.46667 | ⋯ |  -8.53061 | -7.62264 | -6.41818 |  -8.20930 |  -8.17778 | -5.41379 | -6.17241 | -5.30508 | -6.23404 | -6.27273 |\n",
       "| ETH_ALE_CW002 | -5.86275 |  0.50000 | -5.69231 | -6.40000 | -8.81081 | -7.76190 | -7.31707 |  -7.92308 |  -9.02500 | ⋯ |  -9.25000 | -8.33333 | -6.70000 | -10.13160 |  -9.45000 | -6.07547 | -6.81132 | -6.09259 | -6.66667 | -7.40000 |\n",
       "| ETH_ALE_CW014 | -6.24561 | -5.69231 |  0.50000 | -6.03571 | -7.37209 | -6.89583 | -6.63830 |  -7.44444 |  -7.89130 | ⋯ |  -8.22000 | -7.18519 | -6.60714 |  -8.70455 |  -7.82609 | -5.42373 | -6.22034 | -5.35000 | -6.25000 | -6.33929 |\n",
       "| ETH_ALE_CW015 | -6.03636 | -6.40000 | -6.03571 |  0.50000 | -8.02439 | -7.06522 | -6.88889 |  -7.23256 |  -8.38636 | ⋯ |  -8.31250 | -7.42308 | -6.77778 |  -9.52381 |  -8.38636 | -5.94737 | -6.45614 | -5.53448 | -5.84783 | -6.66667 |\n",
       "| ETH_ALE_CW030 | -7.95238 | -8.81081 | -7.37209 | -8.02439 |  0.50000 | -9.93939 | -9.15625 | -10.83330 | -11.38710 | ⋯ | -10.80000 | -9.56410 | -8.73171 | -11.34480 | -11.25810 | -7.13636 | -7.93182 | -6.84444 | -8.03030 | -8.41463 |\n",
       "| ETH_ALE_CW031 | -7.04255 | -7.76190 | -6.89583 | -7.06522 | -9.93939 |  0.50000 | -8.05405 |  -9.11429 |  -9.75000 | ⋯ | -10.50000 | -8.70455 | -7.71739 | -11.50000 | -10.16670 | -6.34694 | -7.46939 | -6.02000 | -7.23684 | -7.65217 |\n",
       "\n"
      ],
      "text/plain": [
       "  INDV1         ETH_ALE_CW001 ETH_ALE_CW002 ETH_ALE_CW014 ETH_ALE_CW015\n",
       "1 ETH_ALE_CW001  0.50000      -5.86275      -6.24561      -6.03636     \n",
       "2 ETH_ALE_CW002 -5.86275       0.50000      -5.69231      -6.40000     \n",
       "3 ETH_ALE_CW014 -6.24561      -5.69231       0.50000      -6.03571     \n",
       "4 ETH_ALE_CW015 -6.03636      -6.40000      -6.03571       0.50000     \n",
       "5 ETH_ALE_CW030 -7.95238      -8.81081      -7.37209      -8.02439     \n",
       "6 ETH_ALE_CW031 -7.04255      -7.76190      -6.89583      -7.06522     \n",
       "  ETH_ALE_CW030 ETH_ALE_CW031 ETH_ALE_CW032 ETH_ALE_CW049 ETH_ALE_CW050 ⋯\n",
       "1 -7.95238      -7.04255      -6.50000       -7.47727      -8.46667     ⋯\n",
       "2 -8.81081      -7.76190      -7.31707       -7.92308      -9.02500     ⋯\n",
       "3 -7.37209      -6.89583      -6.63830       -7.44444      -7.89130     ⋯\n",
       "4 -8.02439      -7.06522      -6.88889       -7.23256      -8.38636     ⋯\n",
       "5  0.50000      -9.93939      -9.15625      -10.83330     -11.38710     ⋯\n",
       "6 -9.93939       0.50000      -8.05405       -9.11429      -9.75000     ⋯\n",
       "  ETH_MET_CW204 ETH_MET_CW208 ETH_MET_CW211 ETH_MET_CW212 ETH_MET_CW219\n",
       "1  -8.53061     -7.62264      -6.41818       -8.20930      -8.17778    \n",
       "2  -9.25000     -8.33333      -6.70000      -10.13160      -9.45000    \n",
       "3  -8.22000     -7.18519      -6.60714       -8.70455      -7.82609    \n",
       "4  -8.31250     -7.42308      -6.77778       -9.52381      -8.38636    \n",
       "5 -10.80000     -9.56410      -8.73171      -11.34480     -11.25810    \n",
       "6 -10.50000     -8.70455      -7.71739      -11.50000     -10.16670    \n",
       "  ETH_TSE_CW043 ETH_TSE_CW079 ETH_TSE_CW097 ETH_TSE_CW151 ETH_TSE_CW191\n",
       "1 -5.41379      -6.17241      -5.30508      -6.23404      -6.27273     \n",
       "2 -6.07547      -6.81132      -6.09259      -6.66667      -7.40000     \n",
       "3 -5.42373      -6.22034      -5.35000      -6.25000      -6.33929     \n",
       "4 -5.94737      -6.45614      -5.53448      -5.84783      -6.66667     \n",
       "5 -7.13636      -7.93182      -6.84444      -8.03030      -8.41463     \n",
       "6 -6.34694      -7.46939      -6.02000      -7.23684      -7.65217     "
      ]
     },
     "metadata": {},
     "output_type": "display_data"
    }
   ],
   "source": [
    "# Change the data frame to a matrix\n",
    "## Select the columns of interest\n",
    "relatedness_long_df <- relatedness %>% \n",
    "    select(INDV1, INDV2, RELATEDNESS_PHI)\n",
    "\n",
    "## Convert to a matrix\n",
    "relatedness_matrix <- relatedness_long_df %>% \n",
    "    spread(INDV2, RELATEDNESS_PHI)\n",
    "\n",
    "## Set the first column as rownames\n",
    "rownames(relatedness_matrix) <- relatedness_matrix$INDV1\n",
    "head(relatedness_matrix)"
   ]
  },
  {
   "cell_type": "code",
   "execution_count": 18,
   "metadata": {
    "vscode": {
     "languageId": "r"
    }
   },
   "outputs": [],
   "source": [
    "## get the 5th to 7th string of the rownames\n",
    "ind <- substr(rownames(relatedness_matrix), 5, 7)"
   ]
  },
  {
   "cell_type": "code",
   "execution_count": 19,
   "metadata": {
    "vscode": {
     "languageId": "r"
    }
   },
   "outputs": [
    {
     "data": {
      "image/png": "[encoded data removed]",
      "text/plain": [
       "Plot with title \"Color Key\n",
       "and Histogram\""
      ]
     },
     "metadata": {
      "image/png": {
       "height": 420,
       "width": 420
      }
     },
     "output_type": "display_data"
    }
   ],
   "source": [
    "## Visualise the relatedness matrix\n",
    "relatedness_matrix %>% \n",
    "    select(-INDV1) %>% \n",
    "    as.matrix() %>% \n",
    "    heatmap.2(trace=\"none\", cexRow=0.6,cexCol = 0.6, labRow = ind, labCol = ind,col= colorRampPalette(c(\"lemonchiffon\", \"lemonchiffon\", \"lemonchiffon\", \"yellow\", \"red\", \"magenta\", \"midnightblue\", \"black\"))(70))"
   ]
  },
  {
   "cell_type": "code",
   "execution_count": 4,
   "metadata": {
    "vscode": {
     "languageId": "r"
    }
   },
   "outputs": [
    {
     "data": {
      "text/html": [
       "<table class=\"dataframe\">\n",
       "<caption>A matrix: 5 × 5 of type dbl</caption>\n",
       "<thead>\n",
       "\t<tr><th scope=col>ETH_ALE_CW001</th><th scope=col>ETH_ALE_CW002</th><th scope=col>ETH_ALE_CW014</th><th scope=col>ETH_ALE_CW015</th><th scope=col>ETH_ALE_CW030</th></tr>\n",
       "</thead>\n",
       "<tbody>\n",
       "\t<tr><td> 0.50000</td><td>-5.86275</td><td>-6.24561</td><td>-6.03636</td><td>-7.95238</td></tr>\n",
       "\t<tr><td>-5.86275</td><td> 0.50000</td><td>-5.69231</td><td>-6.40000</td><td>-8.81081</td></tr>\n",
       "\t<tr><td>-6.24561</td><td>-5.69231</td><td> 0.50000</td><td>-6.03571</td><td>-7.37209</td></tr>\n",
       "\t<tr><td>-6.03636</td><td>-6.40000</td><td>-6.03571</td><td> 0.50000</td><td>-8.02439</td></tr>\n",
       "\t<tr><td>-7.95238</td><td>-8.81081</td><td>-7.37209</td><td>-8.02439</td><td> 0.50000</td></tr>\n",
       "</tbody>\n",
       "</table>\n"
      ],
      "text/latex": [
       "A matrix: 5 × 5 of type dbl\n",
       "\\begin{tabular}{lllll}\n",
       " ETH\\_ALE\\_CW001 & ETH\\_ALE\\_CW002 & ETH\\_ALE\\_CW014 & ETH\\_ALE\\_CW015 & ETH\\_ALE\\_CW030\\\\\n",
       "\\hline\n",
       "\t  0.50000 & -5.86275 & -6.24561 & -6.03636 & -7.95238\\\\\n",
       "\t -5.86275 &  0.50000 & -5.69231 & -6.40000 & -8.81081\\\\\n",
       "\t -6.24561 & -5.69231 &  0.50000 & -6.03571 & -7.37209\\\\\n",
       "\t -6.03636 & -6.40000 & -6.03571 &  0.50000 & -8.02439\\\\\n",
       "\t -7.95238 & -8.81081 & -7.37209 & -8.02439 &  0.50000\\\\\n",
       "\\end{tabular}\n"
      ],
      "text/markdown": [
       "\n",
       "A matrix: 5 × 5 of type dbl\n",
       "\n",
       "| ETH_ALE_CW001 | ETH_ALE_CW002 | ETH_ALE_CW014 | ETH_ALE_CW015 | ETH_ALE_CW030 |\n",
       "|---|---|---|---|---|\n",
       "|  0.50000 | -5.86275 | -6.24561 | -6.03636 | -7.95238 |\n",
       "| -5.86275 |  0.50000 | -5.69231 | -6.40000 | -8.81081 |\n",
       "| -6.24561 | -5.69231 |  0.50000 | -6.03571 | -7.37209 |\n",
       "| -6.03636 | -6.40000 | -6.03571 |  0.50000 | -8.02439 |\n",
       "| -7.95238 | -8.81081 | -7.37209 | -8.02439 |  0.50000 |\n",
       "\n"
      ],
      "text/plain": [
       "     ETH_ALE_CW001 ETH_ALE_CW002 ETH_ALE_CW014 ETH_ALE_CW015 ETH_ALE_CW030\n",
       "[1,]  0.50000      -5.86275      -6.24561      -6.03636      -7.95238     \n",
       "[2,] -5.86275       0.50000      -5.69231      -6.40000      -8.81081     \n",
       "[3,] -6.24561      -5.69231       0.50000      -6.03571      -7.37209     \n",
       "[4,] -6.03636      -6.40000      -6.03571       0.50000      -8.02439     \n",
       "[5,] -7.95238      -8.81081      -7.37209      -8.02439       0.50000     "
      ]
     },
     "metadata": {},
     "output_type": "display_data"
    }
   ],
   "source": [
    "# Convert the relatedness matrix to a KINGmat \n",
    "KINGmat <- relatedness_matrix %>% \n",
    "    select(-INDV1) %>% \n",
    "    as.matrix()\n",
    "KINGmat[1:5,1:5]"
   ]
  },
  {
   "cell_type": "code",
   "execution_count": 20,
   "metadata": {
    "vscode": {
     "languageId": "r"
    }
   },
   "outputs": [
    {
     "name": "stdout",
     "output_type": "stream",
     "text": [
      "Scanning file to determine attributes.\n",
      "File attributes:\n",
      "  meta lines: 14\n",
      "  header_line: 15\n",
      "  variant count: 1697\n",
      "  column count: 143\n",
      "Meta line 14 read in.\n",
      "All meta lines processed.\n",
      "gt matrix initialized.\n",
      "Character matrix gt created.\n",
      "  Character matrix gt rows: 1697\n",
      "  Character matrix gt cols: 143\n",
      "  skip: 0\n",
      "  nrows: 1697\n",
      "  row_num: 0\n",
      "Processed variant: 1697\n",
      "All variants processed\n"
     ]
    }
   ],
   "source": [
    "## Import the vcf file\n",
    "library(snpR)\n",
    "myvcf <- read_vcf(\"data/221203_filtered_sim_nob_populations.snps.vcf\") #1697 loci"
   ]
  },
  {
   "cell_type": "code",
   "execution_count": 25,
   "metadata": {
    "vscode": {
     "languageId": "r"
    }
   },
   "outputs": [
    {
     "name": "stdout",
     "output_type": "stream",
     "text": [
      "Start file conversion from VCF to SNP GDS ...\n",
      "Method: extracting biallelic SNPs\n",
      "Number of samples: 134\n",
      "Parsing \"data/221203_filtered_sim_nob_populations.snps.vcf\" ...\n",
      "\timport 1697 variants.\n",
      "+ genotype   \u001b[90m{\u001b[39m \u001b[90mBit2\u001b[39m \u001b[90m134x1697\u001b[39m\u001b[90m, \u001b[39m\u001b[90m55.5K\u001b[39m \u001b[90m}\u001b[39m *\n",
      "Optimize the access efficiency ...\n",
      "Clean up the fragments of GDS file:\n",
      "    open the file 'data/eth_radseq.gds' (64.2K)\n",
      "    # of fragments: 46\n",
      "    save to 'data/eth_radseq.gds.tmp'\n",
      "    rename 'data/eth_radseq.gds.tmp' (63.8K, reduced: 312B)\n",
      "    # of fragments: 20\n"
     ]
    }
   ],
   "source": [
    "## Convert the vcf file to a gds file\n",
    "library(SNPRelate)\n",
    "vcf.fn <- \"data/221203_filtered_sim_nob_populations.snps.vcf\"  ## need to define the file path\n",
    "snpgdsVCF2GDS(vcf.fn, out.fn = \"data/eth_radseq.gds\")"
   ]
  },
  {
   "cell_type": "code",
   "execution_count": 26,
   "metadata": {
    "vscode": {
     "languageId": "r"
    }
   },
   "outputs": [],
   "source": [
    "genofile <- snpgdsOpen(\"data/eth_radseq.gds\")"
   ]
  },
  {
   "cell_type": "markdown",
   "metadata": {},
   "source": [
    "### Run PC-AiR"
   ]
  },
  {
   "cell_type": "code",
   "execution_count": 7,
   "metadata": {
    "vscode": {
     "languageId": "r"
    }
   },
   "outputs": [
    {
     "name": "stderr",
     "output_type": "stream",
     "text": [
      "Using kinobj and divobj to partition samples into unrelated and related sets\n",
      "\n",
      "Working with 134 samples\n",
      "\n",
      "Identifying relatives for each sample using kinship threshold 0.0220970869120796\n",
      "\n",
      "No relatives found using threshold 0.0220970869120796\n",
      "\n",
      "Unrelated Set: 134 Samples \n",
      "Related Set: 0 Samples\n",
      "\n",
      "Performing PCA on the Unrelated Set...\n",
      "\n"
     ]
    },
    {
     "name": "stdout",
     "output_type": "stream",
     "text": [
      "Principal Component Analysis (PCA) on genotypes:\n",
      "Excluding 0 SNP on non-autosomes\n",
      "Excluding 0 SNP (monomorphic: TRUE, MAF: NaN, missing rate: NaN)\n",
      "    # of samples: 134\n",
      "    # of SNPs: 1,697\n",
      "    using 1 thread\n",
      "    # of principal components: 32\n",
      "PCA:    the sum of all selected genotypes (0,1,2) = 425225\n",
      "CPU capabilities: Double-Precision SSE2\n",
      "Fri Sep 22 13:26:34 2023    (internal increment: 5592)\n",
      "[==================================================] 100%, completed, 0s  \n",
      "Fri Sep 22 13:26:34 2023    Begin (eigenvalues and eigenvectors)\n",
      "Fri Sep 22 13:26:34 2023    Done.\n"
     ]
    }
   ],
   "source": [
    "library(GENESIS)\n",
    "# run PC-AiR on the data genofile\n",
    "mypcair <- pcair(genofile, kinobj = KINGmat, divobj = KINGmat)"
   ]
  },
  {
   "cell_type": "markdown",
   "metadata": {},
   "source": [
    "* This gives us the information on Related and Unrelated individuals. We can see there is zero samples within the related set."
   ]
  },
  {
   "cell_type": "code",
   "execution_count": 9,
   "metadata": {
    "vscode": {
     "languageId": "r"
    }
   },
   "outputs": [
    {
     "name": "stderr",
     "output_type": "stream",
     "text": [
      "Using kinobj and divobj to partition samples into unrelated and related sets\n",
      "\n",
      "Working with 134 samples\n",
      "\n",
      "Identifying relatives for each sample using kinship threshold 0.0220970869120796\n",
      "\n",
      "No relatives found using threshold 0.0220970869120796\n",
      "\n"
     ]
    }
   ],
   "source": [
    "# Partition a Sample without Running PCA\n",
    "part <- pcairPartition(kinobj = KINGmat, divobj = KINGmat)"
   ]
  },
  {
   "cell_type": "code",
   "execution_count": 10,
   "metadata": {
    "vscode": {
     "languageId": "r"
    }
   },
   "outputs": [
    {
     "data": {
      "image/png": "[encoded data removed]",
      "text/plain": [
       "Plot with title \"Plot of PC-AiR PC 1 vs. PC 2\""
      ]
     },
     "metadata": {
      "image/png": {
       "height": 420,
       "width": 420
      }
     },
     "output_type": "display_data"
    }
   ],
   "source": [
    "# plot top 2 PCs\n",
    "plot(mypcair)"
   ]
  },
  {
   "cell_type": "markdown",
   "metadata": {},
   "source": [
    "* The default is to plot PC values as black dots and blue pluses for individuals in the “unrelated subset” and “related subsets” respectively.\n",
    "* We don't have any blue pluses in the plot, which means that there are no related individuals in the dataset\n",
    "* Check how it looks like with the related individuals in the [tutorial](https://bioconductor.org/packages/devel/bioc/vignettes/GENESIS/inst/doc/pcair.html#relatedness-estimation-adjusted-for-principal-components-pc-relate-1)"
   ]
  },
  {
   "cell_type": "markdown",
   "metadata": {},
   "source": [
    "### Run PC-Relate"
   ]
  },
  {
   "cell_type": "code",
   "execution_count": 13,
   "metadata": {
    "vscode": {
     "languageId": "r"
    }
   },
   "outputs": [
    {
     "ename": "ERROR",
     "evalue": "Error in (function (classes, fdef, mtable) : unable to find an inherited method for function 'nsnp' for signature '\"SNPGDSFileClass\"'\n",
     "output_type": "error",
     "traceback": [
      "Error in (function (classes, fdef, mtable) : unable to find an inherited method for function 'nsnp' for signature '\"SNPGDSFileClass\"'\nTraceback:\n",
      "1. GenotypeBlockIterator(genofile)",
      "2. nsnp(genoData)",
      "3. (function (classes, fdef, mtable) \n . {\n .     methods <- .findInheritedMethods(classes, fdef, mtable)\n .     if (length(methods) == 1L) \n .         return(methods[[1L]])\n .     else if (length(methods) == 0L) {\n .         cnames <- paste0(\"\\\"\", vapply(classes, as.character, \n .             \"\"), \"\\\"\", collapse = \", \")\n .         stop(gettextf(\"unable to find an inherited method for function %s for signature %s\", \n .             sQuote(fdef@generic), sQuote(cnames)), domain = NA)\n .     }\n .     else stop(\"Internal error in finding inherited methods; didn't return a unique method\", \n .         domain = NA)\n . })(list(\"SNPGDSFileClass\"), new(\"standardGeneric\", .Data = function (object) \n . standardGeneric(\"nsnp\"), generic = structure(\"nsnp\", package = \"GWASTools\"), \n .     package = \"GWASTools\", group = list(), valueClass = character(0), \n .     signature = \"object\", default = NULL, skeleton = (function (object) \n .     stop(gettextf(\"invalid call in method dispatch to '%s' (no default method)\", \n .         \"nsnp\"), domain = NA))(object)), <environment>)",
      "4. stop(gettextf(\"unable to find an inherited method for function %s for signature %s\", \n .     sQuote(fdef@generic), sQuote(cnames)), domain = NA)"
     ]
    }
   ],
   "source": [
    "library(GWASTools)\n",
    "genofile <- GenotypeBlockIterator(genofile)"
   ]
  },
  {
   "cell_type": "markdown",
   "metadata": {},
   "source": [
    "For some reason, I am getting this error: `Error in (function (classes, fdef, mtable) : unable to find an inherited method for function 'nsnp' for signature '\"SNPGDSFileClass\"'`\n",
    "I haven't been able to fix this. `.gds` file is not being read by the `pcRelate` function while it is working perfectly fine with `pcAir` function.\n",
    "With `pcAir` function alone, we can see that there are no related individuals in the dataset. "
   ]
  },
  {
   "cell_type": "code",
   "execution_count": 14,
   "metadata": {
    "vscode": {
     "languageId": "r"
    }
   },
   "outputs": [
    {
     "ename": "ERROR",
     "evalue": "Error in (function (classes, fdef, mtable) : unable to find an inherited method for function 'pcrelate' for signature '\"SNPGDSFileClass\"'\n",
     "output_type": "error",
     "traceback": [
      "Error in (function (classes, fdef, mtable) : unable to find an inherited method for function 'pcrelate' for signature '\"SNPGDSFileClass\"'\nTraceback:\n",
      "1. pcrelate(genofile, pcs = mypcair$vectors[, 1:2], training.set = mypcair$unrels, \n .     BPPARAM = BiocParallel::SerialParam())",
      "2. (function (classes, fdef, mtable) \n . {\n .     methods <- .findInheritedMethods(classes, fdef, mtable)\n .     if (length(methods) == 1L) \n .         return(methods[[1L]])\n .     else if (length(methods) == 0L) {\n .         cnames <- paste0(\"\\\"\", vapply(classes, as.character, \n .             \"\"), \"\\\"\", collapse = \", \")\n .         stop(gettextf(\"unable to find an inherited method for function %s for signature %s\", \n .             sQuote(fdef@generic), sQuote(cnames)), domain = NA)\n .     }\n .     else stop(\"Internal error in finding inherited methods; didn't return a unique method\", \n .         domain = NA)\n . })(list(\"SNPGDSFileClass\"), new(\"standardGeneric\", .Data = function (gdsobj, \n .     ...) \n . standardGeneric(\"pcrelate\"), generic = structure(\"pcrelate\", package = \"GENESIS\"), \n .     package = \"GENESIS\", group = list(), valueClass = character(0), \n .     signature = \"gdsobj\", default = NULL, skeleton = (function (gdsobj, \n .         ...) \n .     stop(gettextf(\"invalid call in method dispatch to '%s' (no default method)\", \n .         \"pcrelate\"), domain = NA))(gdsobj, ...)), <environment>)",
      "3. stop(gettextf(\"unable to find an inherited method for function %s for signature %s\", \n .     sQuote(fdef@generic), sQuote(cnames)), domain = NA)"
     ]
    }
   ],
   "source": [
    "# Running PC-relate for genodata\n",
    "mypcrelate <- pcrelate(genofile, pcs = mypcair$vectors[,1:2], \n",
    "                       training.set = mypcair$unrels,\n",
    "                       BPPARAM = BiocParallel::SerialParam())\n",
    "\n",
    "## plot output from PC-Relate\n",
    "plot(mypcrelate$kinBtwn$k0, mypcrelate$kinBtwn$kin, xlab=\"k0\", ylab=\"kinship\")"
   ]
  },
  {
   "cell_type": "markdown",
   "metadata": {},
   "source": [
    "## Further references:\n",
    "1. Population Structure and Relatedness Inference using the GENESIS Package. [Link](https://bioconductor.org/packages/devel/bioc/vignettes/GENESIS/inst/doc/pcair.html#relatedness-estimation-adjusted-for-principal-components-pc-relate-1)\n",
    "2. Analyzing Sequence Data using the GENESIS Package. [Link](https://bioconductor.org/packages/devel/bioc/vignettes/GENESIS/inst/doc/assoc_test_seq.html#convert-vcf-to-gds)"
   ]
  }
 ],
 "metadata": {
  "kernelspec": {
   "display_name": "R",
   "language": "R",
   "name": "ir"
  },
  "language_info": {
   "codemirror_mode": "r",
   "file_extension": ".r",
   "mimetype": "text/x-r-source",
   "name": "R",
   "pygments_lexer": "r",
   "version": "4.3.0"
  },
  "orig_nbformat": 4
 },
 "nbformat": 4,
 "nbformat_minor": 2
}
