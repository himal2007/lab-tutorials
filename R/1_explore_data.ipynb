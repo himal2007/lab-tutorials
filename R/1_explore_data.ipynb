{
 "cells": [
  {
   "cell_type": "code",
   "execution_count": 10,
   "metadata": {
    "vscode": {
     "languageId": "r"
    }
   },
   "outputs": [
    {
     "data": {
      "text/html": [
       "<table class=\"dataframe\">\n",
       "<caption>A data.frame: 6 × 10</caption>\n",
       "<thead>\n",
       "\t<tr><th></th><th scope=col>NAME</th><th scope=col>ISO3</th><th scope=col>ISO2</th><th scope=col>NAME_ISO</th><th scope=col>NAME_FAO</th><th scope=col>NAME_LOCAL</th><th scope=col>SOVEREIGN</th><th scope=col>UNREGION1</th><th scope=col>UNREGION2</th><th scope=col>continent</th></tr>\n",
       "\t<tr><th></th><th scope=col>&lt;chr&gt;</th><th scope=col>&lt;chr&gt;</th><th scope=col>&lt;chr&gt;</th><th scope=col>&lt;chr&gt;</th><th scope=col>&lt;chr&gt;</th><th scope=col>&lt;chr&gt;</th><th scope=col>&lt;chr&gt;</th><th scope=col>&lt;chr&gt;</th><th scope=col>&lt;chr&gt;</th><th scope=col>&lt;chr&gt;</th></tr>\n",
       "</thead>\n",
       "<tbody>\n",
       "\t<tr><th scope=row>1</th><td>Afghanistan          </td><td>AFG</td><td>AF</td><td>AFGHANISTAN   </td><td>Afghanistan   </td><td>Afghanestan          </td><td>Afghanistan   </td><td>Southern Asia  </td><td>Asia   </td><td>Asia   </td></tr>\n",
       "\t<tr><th scope=row>2</th><td>Akrotiri and Dhekelia</td><td>XAD</td><td>NA</td><td>NA            </td><td>NA            </td><td>Akrotiri and Dhekelia</td><td>United Kingdom</td><td>Western Asia   </td><td>Asia   </td><td>Asia   </td></tr>\n",
       "\t<tr><th scope=row>3</th><td>Åland                </td><td>ALA</td><td>AX</td><td>ÅLAND ISLANDS </td><td>NA            </td><td>Åland                </td><td>Finland       </td><td>Northern Europe</td><td>Europe </td><td>Europe </td></tr>\n",
       "\t<tr><th scope=row>4</th><td>Albania              </td><td>ALB</td><td>AL</td><td>ALBANIA       </td><td>Albania       </td><td>Shqiperia            </td><td>Albania       </td><td>Southern Europe</td><td>Europe </td><td>Europe </td></tr>\n",
       "\t<tr><th scope=row>5</th><td>Algeria              </td><td>DZA</td><td>DZ</td><td>ALGERIA       </td><td>Algeria       </td><td>Al Jaza'ir           </td><td>Algeria       </td><td>Northern Africa</td><td>Africa </td><td>Africa </td></tr>\n",
       "\t<tr><th scope=row>6</th><td>American Samoa       </td><td>ASM</td><td>AS</td><td>AMERICAN SAMOA</td><td>American Samoa</td><td>American Samoa       </td><td>United States </td><td>Polynesia      </td><td>Oceania</td><td>Oceania</td></tr>\n",
       "</tbody>\n",
       "</table>\n"
      ],
      "text/latex": [
       "A data.frame: 6 × 10\n",
       "\\begin{tabular}{r|llllllllll}\n",
       "  & NAME & ISO3 & ISO2 & NAME\\_ISO & NAME\\_FAO & NAME\\_LOCAL & SOVEREIGN & UNREGION1 & UNREGION2 & continent\\\\\n",
       "  & <chr> & <chr> & <chr> & <chr> & <chr> & <chr> & <chr> & <chr> & <chr> & <chr>\\\\\n",
       "\\hline\n",
       "\t1 & Afghanistan           & AFG & AF & AFGHANISTAN    & Afghanistan    & Afghanestan           & Afghanistan    & Southern Asia   & Asia    & Asia   \\\\\n",
       "\t2 & Akrotiri and Dhekelia & XAD & NA & NA             & NA             & Akrotiri and Dhekelia & United Kingdom & Western Asia    & Asia    & Asia   \\\\\n",
       "\t3 & Åland                 & ALA & AX & ÅLAND ISLANDS  & NA             & Åland                 & Finland        & Northern Europe & Europe  & Europe \\\\\n",
       "\t4 & Albania               & ALB & AL & ALBANIA        & Albania        & Shqiperia             & Albania        & Southern Europe & Europe  & Europe \\\\\n",
       "\t5 & Algeria               & DZA & DZ & ALGERIA        & Algeria        & Al Jaza'ir            & Algeria        & Northern Africa & Africa  & Africa \\\\\n",
       "\t6 & American Samoa        & ASM & AS & AMERICAN SAMOA & American Samoa & American Samoa        & United States  & Polynesia       & Oceania & Oceania\\\\\n",
       "\\end{tabular}\n"
      ],
      "text/markdown": [
       "\n",
       "A data.frame: 6 × 10\n",
       "\n",
       "| <!--/--> | NAME &lt;chr&gt; | ISO3 &lt;chr&gt; | ISO2 &lt;chr&gt; | NAME_ISO &lt;chr&gt; | NAME_FAO &lt;chr&gt; | NAME_LOCAL &lt;chr&gt; | SOVEREIGN &lt;chr&gt; | UNREGION1 &lt;chr&gt; | UNREGION2 &lt;chr&gt; | continent &lt;chr&gt; |\n",
       "|---|---|---|---|---|---|---|---|---|---|---|\n",
       "| 1 | Afghanistan           | AFG | AF | AFGHANISTAN    | Afghanistan    | Afghanestan           | Afghanistan    | Southern Asia   | Asia    | Asia    |\n",
       "| 2 | Akrotiri and Dhekelia | XAD | NA | NA             | NA             | Akrotiri and Dhekelia | United Kingdom | Western Asia    | Asia    | Asia    |\n",
       "| 3 | Åland                 | ALA | AX | ÅLAND ISLANDS  | NA             | Åland                 | Finland        | Northern Europe | Europe  | Europe  |\n",
       "| 4 | Albania               | ALB | AL | ALBANIA        | Albania        | Shqiperia             | Albania        | Southern Europe | Europe  | Europe  |\n",
       "| 5 | Algeria               | DZA | DZ | ALGERIA        | Algeria        | Al Jaza'ir            | Algeria        | Northern Africa | Africa  | Africa  |\n",
       "| 6 | American Samoa        | ASM | AS | AMERICAN SAMOA | American Samoa | American Samoa        | United States  | Polynesia       | Oceania | Oceania |\n",
       "\n"
      ],
      "text/plain": [
       "  NAME                  ISO3 ISO2 NAME_ISO       NAME_FAO      \n",
       "1 Afghanistan           AFG  AF   AFGHANISTAN    Afghanistan   \n",
       "2 Akrotiri and Dhekelia XAD  NA   NA             NA            \n",
       "3 Åland                 ALA  AX   ÅLAND ISLANDS  NA            \n",
       "4 Albania               ALB  AL   ALBANIA        Albania       \n",
       "5 Algeria               DZA  DZ   ALGERIA        Algeria       \n",
       "6 American Samoa        ASM  AS   AMERICAN SAMOA American Samoa\n",
       "  NAME_LOCAL            SOVEREIGN      UNREGION1       UNREGION2 continent\n",
       "1 Afghanestan           Afghanistan    Southern Asia   Asia      Asia     \n",
       "2 Akrotiri and Dhekelia United Kingdom Western Asia    Asia      Asia     \n",
       "3 Åland                 Finland        Northern Europe Europe    Europe   \n",
       "4 Shqiperia             Albania        Southern Europe Europe    Europe   \n",
       "5 Al Jaza'ir            Algeria        Northern Africa Africa    Africa   \n",
       "6 American Samoa        United States  Polynesia       Oceania   Oceania  "
      ]
     },
     "metadata": {},
     "output_type": "display_data"
    }
   ],
   "source": [
    "# dowload administrative boundaries\n",
    "library(tidyverse)\n",
    "library(geodata)\n",
    "library(ggspatial)\n",
    "\n",
    "# Set the output directory for downloaded data\n",
    "output_dir <- \"data/\"\n",
    "ghana_boundary <- gadm(\"GHA\", level = 0, path = output_dir) # level = 0 means country level; country ISO3 code is GHA for Ghana\n",
    "ghana_boundary_region <- gadm(\"GHA\", level = 1, path = output_dir) # level = 0 means country level; country ISO3 code is GHA for Ghana\n",
    "country_codes() %>% head() # check the country codes\n",
    "\n",
    "library(sf)\n",
    "ghana_boundary_sf <- ghana_boundary %>% st_as_sf()\n",
    "ghana_boundary_region_sf <- ghana_boundary_region %>% st_as_sf()"
   ]
  },
  {
   "cell_type": "code",
   "execution_count": 4,
   "metadata": {
    "vscode": {
     "languageId": "r"
    }
   },
   "outputs": [
    {
     "data": {
      "text/html": [
       "<table class=\"dataframe\">\n",
       "<caption>A data.frame: 6 × 3</caption>\n",
       "<thead>\n",
       "\t<tr><th></th><th scope=col>LocationName</th><th scope=col>Longitude</th><th scope=col>Latitude</th></tr>\n",
       "\t<tr><th></th><th scope=col>&lt;chr&gt;</th><th scope=col>&lt;dbl&gt;</th><th scope=col>&lt;dbl&gt;</th></tr>\n",
       "</thead>\n",
       "<tbody>\n",
       "\t<tr><th scope=row>1</th><td>Abasuma     </td><td>-2.5671500</td><td>8.837910</td></tr>\n",
       "\t<tr><th scope=row>2</th><td>ABOABO      </td><td>-2.0600000</td><td>7.830000</td></tr>\n",
       "\t<tr><th scope=row>3</th><td>Abodom      </td><td>-0.8221508</td><td>5.530790</td></tr>\n",
       "\t<tr><th scope=row>4</th><td>ABOMBA KODJO</td><td> 0.3500000</td><td>7.830000</td></tr>\n",
       "\t<tr><th scope=row>5</th><td>Abomba Kojo </td><td> 0.3591000</td><td>7.830483</td></tr>\n",
       "\t<tr><th scope=row>6</th><td>ABOMBA KOJO </td><td> 0.3500000</td><td>7.830000</td></tr>\n",
       "</tbody>\n",
       "</table>\n"
      ],
      "text/latex": [
       "A data.frame: 6 × 3\n",
       "\\begin{tabular}{r|lll}\n",
       "  & LocationName & Longitude & Latitude\\\\\n",
       "  & <chr> & <dbl> & <dbl>\\\\\n",
       "\\hline\n",
       "\t1 & Abasuma      & -2.5671500 & 8.837910\\\\\n",
       "\t2 & ABOABO       & -2.0600000 & 7.830000\\\\\n",
       "\t3 & Abodom       & -0.8221508 & 5.530790\\\\\n",
       "\t4 & ABOMBA KODJO &  0.3500000 & 7.830000\\\\\n",
       "\t5 & Abomba Kojo  &  0.3591000 & 7.830483\\\\\n",
       "\t6 & ABOMBA KOJO  &  0.3500000 & 7.830000\\\\\n",
       "\\end{tabular}\n"
      ],
      "text/markdown": [
       "\n",
       "A data.frame: 6 × 3\n",
       "\n",
       "| <!--/--> | LocationName &lt;chr&gt; | Longitude &lt;dbl&gt; | Latitude &lt;dbl&gt; |\n",
       "|---|---|---|---|\n",
       "| 1 | Abasuma      | -2.5671500 | 8.837910 |\n",
       "| 2 | ABOABO       | -2.0600000 | 7.830000 |\n",
       "| 3 | Abodom       | -0.8221508 | 5.530790 |\n",
       "| 4 | ABOMBA KODJO |  0.3500000 | 7.830000 |\n",
       "| 5 | Abomba Kojo  |  0.3591000 | 7.830483 |\n",
       "| 6 | ABOMBA KOJO  |  0.3500000 | 7.830000 |\n",
       "\n"
      ],
      "text/plain": [
       "  LocationName Longitude  Latitude\n",
       "1 Abasuma      -2.5671500 8.837910\n",
       "2 ABOABO       -2.0600000 7.830000\n",
       "3 Abodom       -0.8221508 5.530790\n",
       "4 ABOMBA KODJO  0.3500000 7.830000\n",
       "5 Abomba Kojo   0.3591000 7.830483\n",
       "6 ABOMBA KOJO   0.3500000 7.830000"
      ]
     },
     "metadata": {},
     "output_type": "display_data"
    }
   ],
   "source": [
    "## Import the data file with longitudes and latitudes of the sites\n",
    "datafile<-\"data/data-GH-sample.csv\" \n",
    "\n",
    "ghana_site <- read.csv(datafile, header = TRUE, stringsAsFactors = FALSE)\n",
    "head(ghana_site)"
   ]
  },
  {
   "cell_type": "code",
   "execution_count": null,
   "metadata": {
    "vscode": {
     "languageId": "r"
    }
   },
   "outputs": [],
   "source": [
    "## Convert to spatial object\n",
    "coordinates(ghana_prev_clean3) <- (ghana_prev_clean3[, c(\"Longitude\",\"Latitude\")])\n",
    "\n",
    "ghana_prev_sf <- ghana_prev_clean3 %>% st_as_sf() \n",
    "st_crs(ghana_prev_sf) = 4326"
   ]
  },
  {
   "cell_type": "code",
   "execution_count": 15,
   "metadata": {
    "vscode": {
     "languageId": "r"
    }
   },
   "outputs": [
    {
     "data": {
      "image/png": "[encoded data removed]",
      "text/plain": [
       "plot without title"
      ]
     },
     "metadata": {
      "image/png": {
       "height": 420,
       "width": 420
      }
     },
     "output_type": "display_data"
    }
   ],
   "source": [
    "p <- ggplot() +\n",
    "  geom_sf(data = ghana_boundary_region_sf, col = \"black\", lwd = 0.8, lty = 1, alpha = 0) +\n",
    "  geom_sf(data = ghana_boundary_sf, col = \"black\", lwd = 1, lty = 1, alpha = 0) +\n",
    "  coord_sf(datum = sf::st_crs(4326))+\n",
    "  geom_point(data = ghana_site, aes(Longitude, Latitude), color = \"black\", fill = \"#9ccbd4\", size = 2, stroke = .5, shape = 21, alpha = .7)+ # plotting points with stroke\n",
    "  theme_bw() +\n",
    "  xlab(\"Logitude\") + ylab(\"Latitude\") +\n",
    "  annotation_scale(location = \"br\", width_hint = 0.5) +\n",
    "  annotation_north_arrow(location = \"tl\", which_north = \"true\",\n",
    "        pad_x = unit(0.05, \"in\"), pad_y = unit(0.05, \"in\"),\n",
    "        style = north_arrow_fancy_orienteering)\n",
    "\n",
    "p"
   ]
  },
  {
   "cell_type": "code",
   "execution_count": 16,
   "metadata": {
    "vscode": {
     "languageId": "r"
    }
   },
   "outputs": [],
   "source": [
    "ggsave(\"ghana_sites.png\", width = 6, height = 8, dpi = 600, bg = \"white\")"
   ]
  }
 ],
 "metadata": {
  "kernelspec": {
   "display_name": "R",
   "language": "R",
   "name": "ir"
  },
  "language_info": {
   "codemirror_mode": "r",
   "file_extension": ".r",
   "mimetype": "text/x-r-source",
   "name": "R",
   "pygments_lexer": "r",
   "version": "4.3.0"
  },
  "orig_nbformat": 4
 },
 "nbformat": 4,
 "nbformat_minor": 2
}
